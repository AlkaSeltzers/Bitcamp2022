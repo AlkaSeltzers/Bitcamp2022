{
 "cells": [
  {
   "cell_type": "code",
   "execution_count": 8,
   "metadata": {},
   "outputs": [],
   "source": [
    "from openpyxl import load_workbook\n",
    "workbook = load_workbook(filename=\"DC_propertyOpenData.xlsx\")\n",
    "sheet = workbook.active"
   ]
  },
  {
   "cell_type": "code",
   "execution_count": 31,
   "metadata": {},
   "outputs": [],
   "source": [
    "data = []\n",
    "for row in sheet[2:158958]:\n",
    "    if any(x == None for x in [row[33].value, row[20].value, row[36].value, row[13].value, row[5].value, row[6].value]):\n",
    "        continue\n",
    "    obj = {}\n",
    "    obj['addr'] = row[33].value\n",
    "    obj['zipcode'] = row[36].value\n",
    "    obj['grade'] = row[20].value\n",
    "    if row[5].value == 0 or row[6].value == 0:\n",
    "        continue\n",
    "    obj['ppr'] = row[13].value / (row[5].value * row[6].value)\n",
    "    data.append(obj)"
   ]
  },
  {
   "cell_type": "code",
   "execution_count": 32,
   "metadata": {},
   "outputs": [],
   "source": [
    "import json\n",
    "with open('data.json', 'w') as f:\n",
    "    json.dump(data, f)"
   ]
  }
 ],
 "metadata": {
  "interpreter": {
   "hash": "ddf5fa63707598b7f589b05237c364a86dedda230ef7d0c58ffb6a3a272403d1"
  },
  "kernelspec": {
   "display_name": "Python 3.10.4 ('normal')",
   "language": "python",
   "name": "python3"
  },
  "language_info": {
   "codemirror_mode": {
    "name": "ipython",
    "version": 3
   },
   "file_extension": ".py",
   "mimetype": "text/x-python",
   "name": "python",
   "nbconvert_exporter": "python",
   "pygments_lexer": "ipython3",
   "version": "3.10.4"
  },
  "orig_nbformat": 4
 },
 "nbformat": 4,
 "nbformat_minor": 2
}
